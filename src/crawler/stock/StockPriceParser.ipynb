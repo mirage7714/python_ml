{
 "cells": [
  {
   "cell_type": "markdown",
   "metadata": {},
   "source": [
    "Taiwan Stock deal parser"
   ]
  },
  {
   "cell_type": "code",
   "execution_count": null,
   "metadata": {
    "collapsed": true
   },
   "outputs": [],
   "source": [
    "import random\n",
    "import requests\n",
    "users = ['Mozilla/5.0 (Windows NT 10.0; Win64; x64) AppleWebKit/537.36 (KHTML, like Gecko) Chrome/58.0.3029.110 Safari/537.36','Mozilla/5.0 (Windows NT 6.1; WOW64; rv:40.0) Gecko/20100101 Firefox/40.1','Mozilla/5.0 (Windows NT 6.2; Win64; x64; rv:27.0) Gecko/20121011 Firefox/27.0','Opera/9.80 (X11; Linux i686; Ubuntu/14.10) Presto/2.12.388 Version/12.16','Mozilla/5.0 (Windows NT 10.0; Win64; x64) AppleWebKit/537.36 (KHTML, like Gecko) Chrome/42.0.2311.135 Safari/537.36 Edge/12.246']\n",
    "\n",
    "stocklist = open('d:/data/stock/stock_list.txt')\n",
    "data = stocklist.readlines()\n",
    "month=\"201709\"\n",
    "for d in data:\n",
    "    a = random.randrange(0,5)\n",
    "    name = d.replace(\"\\n\",\"\")\n",
    "    f = open('f:/stock/'+month+\"/\"+name+\".txt\",'w')\n",
    "    u = users[a]\n",
    "    headers={'User-Agent':u}\n",
    "    url='http://www.twse.com.tw/exchangeReport/STOCK_DAY?response=csv&date=\"+month+\"01&stockNo='+name\n",
    "    req = requests.get(url,headers = headers)\n",
    "    f.write(str(req.text.encode('utf-8')))\n",
    "    f.flush()\n",
    "    f.close()"
   ]
  }
 ],
 "metadata": {
  "kernelspec": {
   "display_name": "Python 2",
   "language": "python",
   "name": "python2"
  },
  "language_info": {
   "codemirror_mode": {
    "name": "ipython",
    "version": 2
   },
   "file_extension": ".py",
   "mimetype": "text/x-python",
   "name": "python",
   "nbconvert_exporter": "python",
   "pygments_lexer": "ipython2",
   "version": "2.7.13"
  }
 },
 "nbformat": 4,
 "nbformat_minor": 2
}
